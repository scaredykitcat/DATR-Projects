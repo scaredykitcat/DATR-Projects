{
 "cells": [
  {
   "cell_type": "markdown",
   "metadata": {},
   "source": [
    "<img src=\"http://imgur.com/1ZcRyrc.png\" style=\"float: left; margin: 20px; height: 55px\">\n",
    "\n",
    "# Project 1: Python Coding Exercises\n",
    "\n",
    "_Authors: Joseph Nelson (DC) _\n",
    "\n",
    "---"
   ]
  },
  {
   "cell_type": "markdown",
   "metadata": {},
   "source": [
    "The following code challenges are drawn from common exercises used in technical interviews.\n",
    "\n",
    "Please note that there may be several ways to approach each challenge. If you get stuck, try mapping out your approach in pseudocode first. Finally, while solutions to problems like these may be found online, remember that if you copy/paste code that you can't explain, you'll be missing out on the point of the project. The only way to truly learn a new skill is through practice, trial, and error - we can only help you improve by understanding where you are having trouble."
   ]
  },
  {
   "cell_type": "markdown",
   "metadata": {},
   "source": [
    "### Challenge 1: Largest Palindrome\n",
    "A palindromic number reads the same both ways. For example, 1234321 is a palindrome. The largest palindrome made from the product of two two-digit numbers is 9009 = 91 × 99. Find the largest palindrome made from the product of two three-digit numbers. Afterward, write a brief explanation walking through your code's logic in markdown."
   ]
  },
  {
   "cell_type": "code",
   "execution_count": 1,
   "metadata": {},
   "outputs": [
    {
     "name": "stdout",
     "output_type": "stream",
     "text": [
      "The largest palindrome is the product of 995 and 583 \n"
     ]
    }
   ],
   "source": [
    "# Helper function\n",
    "def is_palindrome(digit):\n",
    "    # takes a digit and stringify it to work out if its a palindrome\n",
    "    string = str(digit)\n",
    "    return True if string[::-1] == string else False\n",
    "\n",
    "# assert is_palindrome(515) == True\n",
    "\n",
    "# Inner loop\n",
    "def multiply_descending(const_val, desc_val, threshold):\n",
    "    while (desc_val >threshold):\n",
    "        if is_palindrome(const_val * desc_val):\n",
    "            print(f\"The largest palindrome is the product of {const_val} and {desc_val} \")\n",
    "            return False\n",
    "        desc_val -=1\n",
    "        #print(desc_val)\n",
    "    return True\n",
    "    \n",
    "# assert multiply_descending(99, 91, 10) == False\n",
    "# assert multiply_descending(999, 919, 100) == True\n",
    "\n",
    "# Outer loop\n",
    "def largest_palindrome(const_val, desc_val, threshold):\n",
    "    while const_val > threshold:\n",
    "        to_advance = multiply_descending(const_val, desc_val, threshold)\n",
    "        if to_advance:\n",
    "            const_val -=1\n",
    "        else:\n",
    "            break\n",
    "        \n",
    "largest_palindrome(999,999,100)"
   ]
  },
  {
   "cell_type": "markdown",
   "metadata": {},
   "source": [
    "\n",
    "### Challenge 2: Summation of Primes\n",
    "The sum of the primes below 10 is 2 + 3 + 5 + 7 = 17. Find the sum of all the primes below 2,000. Afterward, write a brief explanation walking through your code's logic in markdown."
   ]
  },
  {
   "cell_type": "code",
   "execution_count": 60,
   "metadata": {},
   "outputs": [
    {
     "name": "stdout",
     "output_type": "stream",
     "text": [
      "The sum of primes under 2000 is 277050\n"
     ]
    }
   ],
   "source": [
    "from math import floor\n",
    "\n",
    "def is_prime(number, divisor=2):\n",
    "    '''\n",
    "    A prime number is divisible by 1 or itself. e.g. 2, 3, 7, 11\n",
    "\n",
    "    '''\n",
    "    # Round down\n",
    "    number = floor(number)\n",
    "    if number < 2:\n",
    "        return False\n",
    "    if (number % divisor) == 0:\n",
    "        if divisor < number:\n",
    "            return False\n",
    "        else:\n",
    "            return True\n",
    "    else:\n",
    "        return is_prime(number, divisor + 1)\n",
    "\n",
    "# assert is_prime(3) == True\n",
    "# assert is_prime(2101) == False\n",
    "# assert is_prime(3.4) == True\n",
    "\n",
    "def sum_primes_under(number):\n",
    "    result = 0\n",
    "    for i in range(2, number):\n",
    "        if is_prime(i):\n",
    "            result += i\n",
    "    return result\n",
    "\n",
    "print(f\"The sum of primes under 2000 is {sum_primes_under(2000)}\")"
   ]
  },
  {
   "cell_type": "markdown",
   "metadata": {},
   "source": [
    "### Challenge 3: Multiples of 3 and 5\n",
    "If we list all of the natural numbers below 10 that are multiples of 3 or 5, we get 3, 5, 6, and 9. The sum of these multiples is 23. Find the sum of all the multiples of 3 and 5 below 1,000. Afterward, write a brief explanation walking through your code's logic in markdown."
   ]
  },
  {
   "cell_type": "code",
   "execution_count": 42,
   "metadata": {},
   "outputs": [
    {
     "name": "stdout",
     "output_type": "stream",
     "text": [
      "The sum of multiples (3, 5) under 1000 is 233168\n"
     ]
    }
   ],
   "source": [
    "def sum_multiples_below(number, *multiples):\n",
    "    multiples_list = []\n",
    "    for i in range(1, number):\n",
    "        for multiple in multiples:\n",
    "            if (i % multiple) == 0:\n",
    "                multiples_list.append(i)\n",
    "    sum_multiples = sum(list(set(multiples_list)))\n",
    "    print(f\"The sum of multiples {multiples} under {number} is {sum_multiples}\")\n",
    "\n",
    "sum_multiples_below(1000, 3, 5)"
   ]
  },
  {
   "cell_type": "markdown",
   "metadata": {},
   "source": [
    "### Challenge 4: String Compressor\n",
    "Implement a method to perform basic string compression using the counts of repeated characters. (This is called run-length encoding.) For example, the string \"aabcccccaaa\" would become a2b1c5a3. If the “compressed” string would not become smaller than the original string, your method should return the original string. You can assume the string has only uppercase and lowercase letters (a–z). Specify whether your solution is case sensitive or case insensitive and what you would need to change to make it the other. Afterward, write a brief explanation walking through your code's logic in markdown."
   ]
  },
  {
   "cell_type": "code",
   "execution_count": 1,
   "metadata": {},
   "outputs": [
    {
     "data": {
      "text/plain": [
       "'a2b1c5a3'"
      ]
     },
     "execution_count": 1,
     "metadata": {},
     "output_type": "execute_result"
    }
   ],
   "source": [
    "\n",
    "def string_compress(string):\n",
    "    result = \"\"\n",
    "    pos = 0\n",
    "    marker = pos\n",
    "    char = string[pos]\n",
    "    compare = char\n",
    "    while pos < len(string):\n",
    "        if string[pos] == compare:\n",
    "            pos+=1\n",
    "        else:\n",
    "            result += compare + str(pos - marker)\n",
    "            compare = string[pos]\n",
    "            marker = pos\n",
    "            pos+=1\n",
    "    result+= compare + str(pos - marker)\n",
    "\n",
    "    if len(result) > len(string):\n",
    "        result = string\n",
    "    return result\n",
    "\n",
    "string_compress(\"aabcccccaaa\")"
   ]
  },
  {
   "cell_type": "markdown",
   "metadata": {},
   "source": [
    "### *BONUS* Challenge: FizzBuzz\n",
    "Write a program that prints all of the numbers from 1 to 100. For multiples of 3, instead of the number, print \"Fizz;\" for multiples of 5, print \"Buzz.\" For numbers that are multiples of both 3 and 5, print \"FizzBuzz.\" Afterward, write a brief explanation walking through your code's logic in markdown."
   ]
  },
  {
   "cell_type": "code",
   "execution_count": 58,
   "metadata": {},
   "outputs": [
    {
     "name": "stdout",
     "output_type": "stream",
     "text": [
      "1\n",
      "2\n",
      "Fizz\n",
      "4\n",
      "Buzz\n",
      "Fizz\n",
      "7\n",
      "8\n",
      "Fizz\n",
      "Buzz\n",
      "11\n",
      "Fizz\n",
      "13\n",
      "14\n",
      "FizzBuzz\n",
      "16\n",
      "17\n",
      "Fizz\n",
      "19\n",
      "Buzz\n",
      "Fizz\n",
      "22\n",
      "23\n",
      "Fizz\n",
      "Buzz\n",
      "26\n",
      "Fizz\n",
      "28\n",
      "29\n",
      "FizzBuzz\n",
      "31\n",
      "32\n",
      "Fizz\n",
      "34\n",
      "Buzz\n",
      "Fizz\n",
      "37\n",
      "38\n",
      "Fizz\n",
      "Buzz\n",
      "41\n",
      "Fizz\n",
      "43\n",
      "44\n",
      "FizzBuzz\n",
      "46\n",
      "47\n",
      "Fizz\n",
      "49\n",
      "Buzz\n",
      "Fizz\n",
      "52\n",
      "53\n",
      "Fizz\n",
      "Buzz\n",
      "56\n",
      "Fizz\n",
      "58\n",
      "59\n",
      "FizzBuzz\n",
      "61\n",
      "62\n",
      "Fizz\n",
      "64\n",
      "Buzz\n",
      "Fizz\n",
      "67\n",
      "68\n",
      "Fizz\n",
      "Buzz\n",
      "71\n",
      "Fizz\n",
      "73\n",
      "74\n",
      "FizzBuzz\n",
      "76\n",
      "77\n",
      "Fizz\n",
      "79\n",
      "Buzz\n",
      "Fizz\n",
      "82\n",
      "83\n",
      "Fizz\n",
      "Buzz\n",
      "86\n",
      "Fizz\n",
      "88\n",
      "89\n",
      "FizzBuzz\n",
      "91\n",
      "92\n",
      "Fizz\n",
      "94\n",
      "Buzz\n",
      "Fizz\n",
      "97\n",
      "98\n",
      "Fizz\n"
     ]
    }
   ],
   "source": [
    "n = 100\n",
    "for i in range(1, n):\n",
    "    if (i%5 == 0) and (i%3 == 0):\n",
    "        print(\"FizzBuzz\")\n",
    "    elif (i%3 == 0):\n",
    "        print(\"Fizz\")\n",
    "    elif (i%5 == 0):\n",
    "        print(\"Buzz\")\n",
    "    else:\n",
    "        print(i)\n"
   ]
  },
  {
   "cell_type": "code",
   "execution_count": null,
   "metadata": {},
   "outputs": [],
   "source": []
  }
 ],
 "metadata": {
  "anaconda-cloud": {},
  "kernelspec": {
   "display_name": "Python 3 (ipykernel)",
   "language": "python",
   "name": "python3"
  },
  "language_info": {
   "codemirror_mode": {
    "name": "ipython",
    "version": 3
   },
   "file_extension": ".py",
   "mimetype": "text/x-python",
   "name": "python",
   "nbconvert_exporter": "python",
   "pygments_lexer": "ipython3",
   "version": "3.9.12"
  }
 },
 "nbformat": 4,
 "nbformat_minor": 2
}
